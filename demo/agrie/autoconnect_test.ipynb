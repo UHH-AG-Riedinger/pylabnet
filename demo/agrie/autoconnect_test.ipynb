{
 "cells": [
  {
   "cell_type": "code",
   "execution_count": 9,
   "metadata": {},
   "outputs": [],
   "source": [
    "import pylabnet.utils.logging.logger as lg\n",
    "import pylabnet.utils.helper_methods as hm\n",
    "import pyvisa\n",
    "import time\n",
    "import numpy as np"
   ]
  },
  {
   "cell_type": "code",
   "execution_count": 10,
   "metadata": {},
   "outputs": [],
   "source": [
    "logger = lg.LogClient()"
   ]
  },
  {
   "cell_type": "code",
   "execution_count": 5,
   "metadata": {},
   "outputs": [],
   "source": [
    "pmX = hm.autoconnect_device(device_tag = 'thorlabs_pm101_server_0x1313::0x8076::M00940375', logger=logger)"
   ]
  },
  {
   "cell_type": "code",
   "execution_count": 16,
   "metadata": {},
   "outputs": [
    {
     "ename": "EOFError",
     "evalue": "[WinError 10054] An existing connection was forcibly closed by the remote host",
     "output_type": "error",
     "traceback": [
      "\u001b[1;31m---------------------------------------------------------------------------\u001b[0m",
      "\u001b[1;31mConnectionResetError\u001b[0m                      Traceback (most recent call last)",
      "File \u001b[1;32mc:\\GithubSync\\pylabnet\\env\\lib\\site-packages\\rpyc\\core\\stream.py:268\u001b[0m, in \u001b[0;36mSocketStream.write\u001b[1;34m(self, data)\u001b[0m\n\u001b[0;32m    267\u001b[0m \u001b[39mwhile\u001b[39;00m data:\n\u001b[1;32m--> 268\u001b[0m     count \u001b[39m=\u001b[39m \u001b[39mself\u001b[39;49m\u001b[39m.\u001b[39;49msock\u001b[39m.\u001b[39;49msend(data[:\u001b[39mself\u001b[39;49m\u001b[39m.\u001b[39;49mMAX_IO_CHUNK])\n\u001b[0;32m    269\u001b[0m     data \u001b[39m=\u001b[39m data[count:]\n",
      "File \u001b[1;32mC:\\Program Files\\WindowsApps\\PythonSoftwareFoundation.Python.3.8_3.8.2800.0_x64__qbz5n2kfra8p0\\lib\\ssl.py:1173\u001b[0m, in \u001b[0;36mSSLSocket.send\u001b[1;34m(self, data, flags)\u001b[0m\n\u001b[0;32m   1170\u001b[0m         \u001b[39mraise\u001b[39;00m \u001b[39mValueError\u001b[39;00m(\n\u001b[0;32m   1171\u001b[0m             \u001b[39m\"\u001b[39m\u001b[39mnon-zero flags not allowed in calls to send() on \u001b[39m\u001b[39m%s\u001b[39;00m\u001b[39m\"\u001b[39m \u001b[39m%\u001b[39m\n\u001b[0;32m   1172\u001b[0m             \u001b[39mself\u001b[39m\u001b[39m.\u001b[39m\u001b[39m__class__\u001b[39m)\n\u001b[1;32m-> 1173\u001b[0m     \u001b[39mreturn\u001b[39;00m \u001b[39mself\u001b[39;49m\u001b[39m.\u001b[39;49m_sslobj\u001b[39m.\u001b[39;49mwrite(data)\n\u001b[0;32m   1174\u001b[0m \u001b[39melse\u001b[39;00m:\n",
      "\u001b[1;31mConnectionResetError\u001b[0m: [WinError 10054] An existing connection was forcibly closed by the remote host",
      "\nDuring handling of the above exception, another exception occurred:\n",
      "\u001b[1;31mEOFError\u001b[0m                                  Traceback (most recent call last)",
      "\u001b[1;32mc:\\GithubSync\\pylabnet\\demo\\agrie\\autoconnect_test.ipynb Cell 4\u001b[0m line \u001b[0;36m1\n\u001b[1;32m----> <a href='vscode-notebook-cell:/c%3A/GithubSync/pylabnet/demo/agrie/autoconnect_test.ipynb#W3sZmlsZQ%3D%3D?line=0'>1</a>\u001b[0m pmX\u001b[39m.\u001b[39;49mget_power()\n",
      "File \u001b[1;32mc:\\githubsync\\pylabnet\\pylabnet\\network\\client_server\\thorlabs_pm101.py:26\u001b[0m, in \u001b[0;36mClient.get_power\u001b[1;34m(self)\u001b[0m\n\u001b[0;32m     25\u001b[0m \u001b[39mdef\u001b[39;00m \u001b[39mget_power\u001b[39m(\u001b[39mself\u001b[39m):\n\u001b[1;32m---> 26\u001b[0m     \u001b[39mreturn\u001b[39;00m \u001b[39mself\u001b[39;49m\u001b[39m.\u001b[39;49m_service\u001b[39m.\u001b[39;49mexposed_get_power()\n",
      "File \u001b[1;32mc:\\GithubSync\\pylabnet\\env\\lib\\site-packages\\rpyc\\core\\netref.py:148\u001b[0m, in \u001b[0;36mBaseNetref.__getattribute__\u001b[1;34m(self, name)\u001b[0m\n\u001b[0;32m    146\u001b[0m     \u001b[39mreturn\u001b[39;00m \u001b[39mobject\u001b[39m\u001b[39m.\u001b[39m\u001b[39m__getattribute__\u001b[39m(\u001b[39mself\u001b[39m, \u001b[39m\"\u001b[39m\u001b[39m__array__\u001b[39m\u001b[39m\"\u001b[39m)\n\u001b[0;32m    147\u001b[0m \u001b[39melse\u001b[39;00m:\n\u001b[1;32m--> 148\u001b[0m     \u001b[39mreturn\u001b[39;00m syncreq(\u001b[39mself\u001b[39;49m, consts\u001b[39m.\u001b[39;49mHANDLE_GETATTR, name)\n",
      "File \u001b[1;32mc:\\GithubSync\\pylabnet\\env\\lib\\site-packages\\rpyc\\core\\netref.py:63\u001b[0m, in \u001b[0;36msyncreq\u001b[1;34m(proxy, handler, *args)\u001b[0m\n\u001b[0;32m     51\u001b[0m \u001b[39m\"\"\"Performs a synchronous request on the given proxy object.\u001b[39;00m\n\u001b[0;32m     52\u001b[0m \u001b[39mNot intended to be invoked directly.\u001b[39;00m\n\u001b[0;32m     53\u001b[0m \n\u001b[1;32m   (...)\u001b[0m\n\u001b[0;32m     60\u001b[0m \u001b[39m:returns: the result of the operation\u001b[39;00m\n\u001b[0;32m     61\u001b[0m \u001b[39m\"\"\"\u001b[39;00m\n\u001b[0;32m     62\u001b[0m conn \u001b[39m=\u001b[39m \u001b[39mobject\u001b[39m\u001b[39m.\u001b[39m\u001b[39m__getattribute__\u001b[39m(proxy, \u001b[39m\"\u001b[39m\u001b[39m____conn__\u001b[39m\u001b[39m\"\u001b[39m)\n\u001b[1;32m---> 63\u001b[0m \u001b[39mreturn\u001b[39;00m conn\u001b[39m.\u001b[39;49msync_request(handler, proxy, \u001b[39m*\u001b[39;49margs)\n",
      "File \u001b[1;32mc:\\GithubSync\\pylabnet\\env\\lib\\site-packages\\rpyc\\core\\protocol.py:473\u001b[0m, in \u001b[0;36mConnection.sync_request\u001b[1;34m(self, handler, *args)\u001b[0m\n\u001b[0;32m    467\u001b[0m \u001b[39m\"\"\"requests, sends a synchronous request (waits for the reply to arrive)\u001b[39;00m\n\u001b[0;32m    468\u001b[0m \n\u001b[0;32m    469\u001b[0m \u001b[39m:raises: any exception that the requets may be generated\u001b[39;00m\n\u001b[0;32m    470\u001b[0m \u001b[39m:returns: the result of the request\u001b[39;00m\n\u001b[0;32m    471\u001b[0m \u001b[39m\"\"\"\u001b[39;00m\n\u001b[0;32m    472\u001b[0m timeout \u001b[39m=\u001b[39m \u001b[39mself\u001b[39m\u001b[39m.\u001b[39m_config[\u001b[39m\"\u001b[39m\u001b[39msync_request_timeout\u001b[39m\u001b[39m\"\u001b[39m]\n\u001b[1;32m--> 473\u001b[0m \u001b[39mreturn\u001b[39;00m \u001b[39mself\u001b[39;49m\u001b[39m.\u001b[39;49masync_request(handler, \u001b[39m*\u001b[39;49margs, timeout\u001b[39m=\u001b[39;49mtimeout)\u001b[39m.\u001b[39mvalue\n",
      "File \u001b[1;32mc:\\GithubSync\\pylabnet\\env\\lib\\site-packages\\rpyc\\core\\protocol.py:497\u001b[0m, in \u001b[0;36mConnection.async_request\u001b[1;34m(self, handler, *args, **kwargs)\u001b[0m\n\u001b[0;32m    495\u001b[0m     \u001b[39mraise\u001b[39;00m \u001b[39mTypeError\u001b[39;00m(\u001b[39m\"\u001b[39m\u001b[39mgot unexpected keyword argument(s) \u001b[39m\u001b[39m%s\u001b[39;00m\u001b[39m\"\u001b[39m \u001b[39m%\u001b[39m (\u001b[39mlist\u001b[39m(kwargs\u001b[39m.\u001b[39mkeys()),))\n\u001b[0;32m    496\u001b[0m res \u001b[39m=\u001b[39m AsyncResult(\u001b[39mself\u001b[39m)\n\u001b[1;32m--> 497\u001b[0m \u001b[39mself\u001b[39;49m\u001b[39m.\u001b[39;49m_async_request(handler, args, res)\n\u001b[0;32m    498\u001b[0m \u001b[39mif\u001b[39;00m timeout \u001b[39mis\u001b[39;00m \u001b[39mnot\u001b[39;00m \u001b[39mNone\u001b[39;00m:\n\u001b[0;32m    499\u001b[0m     res\u001b[39m.\u001b[39mset_expiry(timeout)\n",
      "File \u001b[1;32mc:\\GithubSync\\pylabnet\\env\\lib\\site-packages\\rpyc\\core\\protocol.py:479\u001b[0m, in \u001b[0;36mConnection._async_request\u001b[1;34m(self, handler, args, callback)\u001b[0m\n\u001b[0;32m    477\u001b[0m \u001b[39mself\u001b[39m\u001b[39m.\u001b[39m_request_callbacks[seq] \u001b[39m=\u001b[39m callback\n\u001b[0;32m    478\u001b[0m \u001b[39mtry\u001b[39;00m:\n\u001b[1;32m--> 479\u001b[0m     \u001b[39mself\u001b[39;49m\u001b[39m.\u001b[39;49m_send(consts\u001b[39m.\u001b[39;49mMSG_REQUEST, seq, (handler, \u001b[39mself\u001b[39;49m\u001b[39m.\u001b[39;49m_box(args)))\n\u001b[0;32m    480\u001b[0m \u001b[39mexcept\u001b[39;00m \u001b[39mException\u001b[39;00m:\n\u001b[0;32m    481\u001b[0m     \u001b[39m# TODO: review test_remote_exception, logging exceptions show attempt to write on closed stream\u001b[39;00m\n\u001b[0;32m    482\u001b[0m     \u001b[39m# depending on the case, the MSG_REQUEST may or may not have been sent completely\u001b[39;00m\n\u001b[0;32m    483\u001b[0m     \u001b[39m# so, pop the callback and raise to keep response integrity is consistent\u001b[39;00m\n\u001b[0;32m    484\u001b[0m     \u001b[39mself\u001b[39m\u001b[39m.\u001b[39m_request_callbacks\u001b[39m.\u001b[39mpop(seq, \u001b[39mNone\u001b[39;00m)\n",
      "File \u001b[1;32mc:\\GithubSync\\pylabnet\\env\\lib\\site-packages\\rpyc\\core\\protocol.py:263\u001b[0m, in \u001b[0;36mConnection._send\u001b[1;34m(self, msg, seq, args)\u001b[0m\n\u001b[0;32m    261\u001b[0m         \u001b[39mcontinue\u001b[39;00m\n\u001b[0;32m    262\u001b[0m     data \u001b[39m=\u001b[39m \u001b[39mself\u001b[39m\u001b[39m.\u001b[39m_send_queue\u001b[39m.\u001b[39mpop(\u001b[39m0\u001b[39m)\n\u001b[1;32m--> 263\u001b[0m     \u001b[39mself\u001b[39;49m\u001b[39m.\u001b[39;49m_channel\u001b[39m.\u001b[39;49msend(data)\n\u001b[0;32m    264\u001b[0m \u001b[39mfinally\u001b[39;00m:\n\u001b[0;32m    265\u001b[0m     \u001b[39mself\u001b[39m\u001b[39m.\u001b[39m_sendlock\u001b[39m.\u001b[39mrelease()\n",
      "File \u001b[1;32mc:\\GithubSync\\pylabnet\\env\\lib\\site-packages\\rpyc\\core\\channel.py:78\u001b[0m, in \u001b[0;36mChannel.send\u001b[1;34m(self, data)\u001b[0m\n\u001b[0;32m     75\u001b[0m flush_size \u001b[39m=\u001b[39m \u001b[39mlen\u001b[39m(\u001b[39mself\u001b[39m\u001b[39m.\u001b[39mFLUSHER)\n\u001b[0;32m     76\u001b[0m \u001b[39mif\u001b[39;00m \u001b[39mself\u001b[39m\u001b[39m.\u001b[39mFRAME_HEADER\u001b[39m.\u001b[39msize \u001b[39m+\u001b[39m data_size \u001b[39m+\u001b[39m flush_size \u001b[39m<\u001b[39m\u001b[39m=\u001b[39m \u001b[39mself\u001b[39m\u001b[39m.\u001b[39mstream\u001b[39m.\u001b[39mMAX_IO_CHUNK:\n\u001b[0;32m     77\u001b[0m     \u001b[39m# avoid overhead from socket writes requiring GIL to be held\u001b[39;00m\n\u001b[1;32m---> 78\u001b[0m     \u001b[39mself\u001b[39;49m\u001b[39m.\u001b[39;49mstream\u001b[39m.\u001b[39;49mwrite(header \u001b[39m+\u001b[39;49m data \u001b[39m+\u001b[39;49m \u001b[39mself\u001b[39;49m\u001b[39m.\u001b[39;49mFLUSHER)\n\u001b[0;32m     79\u001b[0m \u001b[39melse\u001b[39;00m:\n\u001b[0;32m     80\u001b[0m     \u001b[39m# Data larger than 64KB, the extra writes are negligible\u001b[39;00m\n\u001b[0;32m     81\u001b[0m     part1 \u001b[39m=\u001b[39m \u001b[39mself\u001b[39m\u001b[39m.\u001b[39mstream\u001b[39m.\u001b[39mMAX_IO_CHUNK \u001b[39m-\u001b[39m \u001b[39mself\u001b[39m\u001b[39m.\u001b[39mFRAME_HEADER\u001b[39m.\u001b[39msize\n",
      "File \u001b[1;32mc:\\GithubSync\\pylabnet\\env\\lib\\site-packages\\rpyc\\core\\stream.py:273\u001b[0m, in \u001b[0;36mSocketStream.write\u001b[1;34m(self, data)\u001b[0m\n\u001b[0;32m    271\u001b[0m ex \u001b[39m=\u001b[39m sys\u001b[39m.\u001b[39mexc_info()[\u001b[39m1\u001b[39m]\n\u001b[0;32m    272\u001b[0m \u001b[39mself\u001b[39m\u001b[39m.\u001b[39mclose()\n\u001b[1;32m--> 273\u001b[0m \u001b[39mraise\u001b[39;00m \u001b[39mEOFError\u001b[39;00m(ex)\n",
      "\u001b[1;31mEOFError\u001b[0m: [WinError 10054] An existing connection was forcibly closed by the remote host"
     ]
    }
   ],
   "source": [
    "pmX.get_power()"
   ]
  },
  {
   "cell_type": "code",
   "execution_count": 11,
   "metadata": {},
   "outputs": [],
   "source": [
    "rm = pyvisa.ResourceManager()"
   ]
  },
  {
   "cell_type": "code",
   "execution_count": 12,
   "metadata": {},
   "outputs": [],
   "source": [
    "open_res = rm.list_opened_resources()"
   ]
  },
  {
   "cell_type": "code",
   "execution_count": 13,
   "metadata": {},
   "outputs": [
    {
     "name": "stdout",
     "output_type": "stream",
     "text": [
      "[]\n"
     ]
    }
   ],
   "source": [
    "print(open_res)"
   ]
  },
  {
   "cell_type": "code",
   "execution_count": 8,
   "metadata": {},
   "outputs": [
    {
     "ename": "EOFError",
     "evalue": "stream has been closed",
     "output_type": "error",
     "traceback": [
      "\u001b[1;31m---------------------------------------------------------------------------\u001b[0m",
      "\u001b[1;31mEOFError\u001b[0m                                  Traceback (most recent call last)",
      "\u001b[1;32mc:\\GithubSync\\pylabnet\\demo\\agrie\\autoconnect_test.ipynb Cell 8\u001b[0m line \u001b[0;36m1\n\u001b[1;32m----> <a href='vscode-notebook-cell:/c%3A/GithubSync/pylabnet/demo/agrie/autoconnect_test.ipynb#X10sZmlsZQ%3D%3D?line=0'>1</a>\u001b[0m abc \u001b[39m=\u001b[39m logger\u001b[39m.\u001b[39;49mget_client_data()\n\u001b[0;32m      <a href='vscode-notebook-cell:/c%3A/GithubSync/pylabnet/demo/agrie/autoconnect_test.ipynb#X10sZmlsZQ%3D%3D?line=1'>2</a>\u001b[0m \u001b[39mprint\u001b[39m(abc)\n",
      "File \u001b[1;32mc:\\githubsync\\pylabnet\\pylabnet\\utils\\logging\\logger.py:364\u001b[0m, in \u001b[0;36mLogClient.get_client_data\u001b[1;34m(self)\u001b[0m\n\u001b[0;32m    363\u001b[0m \u001b[39mdef\u001b[39;00m \u001b[39mget_client_data\u001b[39m(\u001b[39mself\u001b[39m):\n\u001b[1;32m--> 364\u001b[0m     \u001b[39mreturn\u001b[39;00m pickle\u001b[39m.\u001b[39mloads(\u001b[39mself\u001b[39;49m\u001b[39m.\u001b[39;49m_service\u001b[39m.\u001b[39;49mexposed_get_client_data())\n",
      "File \u001b[1;32mc:\\GithubSync\\pylabnet\\env\\lib\\site-packages\\rpyc\\core\\netref.py:148\u001b[0m, in \u001b[0;36mBaseNetref.__getattribute__\u001b[1;34m(self, name)\u001b[0m\n\u001b[0;32m    146\u001b[0m     \u001b[39mreturn\u001b[39;00m \u001b[39mobject\u001b[39m\u001b[39m.\u001b[39m\u001b[39m__getattribute__\u001b[39m(\u001b[39mself\u001b[39m, \u001b[39m\"\u001b[39m\u001b[39m__array__\u001b[39m\u001b[39m\"\u001b[39m)\n\u001b[0;32m    147\u001b[0m \u001b[39melse\u001b[39;00m:\n\u001b[1;32m--> 148\u001b[0m     \u001b[39mreturn\u001b[39;00m syncreq(\u001b[39mself\u001b[39;49m, consts\u001b[39m.\u001b[39;49mHANDLE_GETATTR, name)\n",
      "File \u001b[1;32mc:\\GithubSync\\pylabnet\\env\\lib\\site-packages\\rpyc\\core\\netref.py:63\u001b[0m, in \u001b[0;36msyncreq\u001b[1;34m(proxy, handler, *args)\u001b[0m\n\u001b[0;32m     51\u001b[0m \u001b[39m\"\"\"Performs a synchronous request on the given proxy object.\u001b[39;00m\n\u001b[0;32m     52\u001b[0m \u001b[39mNot intended to be invoked directly.\u001b[39;00m\n\u001b[0;32m     53\u001b[0m \n\u001b[1;32m   (...)\u001b[0m\n\u001b[0;32m     60\u001b[0m \u001b[39m:returns: the result of the operation\u001b[39;00m\n\u001b[0;32m     61\u001b[0m \u001b[39m\"\"\"\u001b[39;00m\n\u001b[0;32m     62\u001b[0m conn \u001b[39m=\u001b[39m \u001b[39mobject\u001b[39m\u001b[39m.\u001b[39m\u001b[39m__getattribute__\u001b[39m(proxy, \u001b[39m\"\u001b[39m\u001b[39m____conn__\u001b[39m\u001b[39m\"\u001b[39m)\n\u001b[1;32m---> 63\u001b[0m \u001b[39mreturn\u001b[39;00m conn\u001b[39m.\u001b[39;49msync_request(handler, proxy, \u001b[39m*\u001b[39;49margs)\n",
      "File \u001b[1;32mc:\\GithubSync\\pylabnet\\env\\lib\\site-packages\\rpyc\\core\\protocol.py:473\u001b[0m, in \u001b[0;36mConnection.sync_request\u001b[1;34m(self, handler, *args)\u001b[0m\n\u001b[0;32m    467\u001b[0m \u001b[39m\"\"\"requests, sends a synchronous request (waits for the reply to arrive)\u001b[39;00m\n\u001b[0;32m    468\u001b[0m \n\u001b[0;32m    469\u001b[0m \u001b[39m:raises: any exception that the requets may be generated\u001b[39;00m\n\u001b[0;32m    470\u001b[0m \u001b[39m:returns: the result of the request\u001b[39;00m\n\u001b[0;32m    471\u001b[0m \u001b[39m\"\"\"\u001b[39;00m\n\u001b[0;32m    472\u001b[0m timeout \u001b[39m=\u001b[39m \u001b[39mself\u001b[39m\u001b[39m.\u001b[39m_config[\u001b[39m\"\u001b[39m\u001b[39msync_request_timeout\u001b[39m\u001b[39m\"\u001b[39m]\n\u001b[1;32m--> 473\u001b[0m \u001b[39mreturn\u001b[39;00m \u001b[39mself\u001b[39;49m\u001b[39m.\u001b[39;49masync_request(handler, \u001b[39m*\u001b[39;49margs, timeout\u001b[39m=\u001b[39;49mtimeout)\u001b[39m.\u001b[39mvalue\n",
      "File \u001b[1;32mc:\\GithubSync\\pylabnet\\env\\lib\\site-packages\\rpyc\\core\\protocol.py:497\u001b[0m, in \u001b[0;36mConnection.async_request\u001b[1;34m(self, handler, *args, **kwargs)\u001b[0m\n\u001b[0;32m    495\u001b[0m     \u001b[39mraise\u001b[39;00m \u001b[39mTypeError\u001b[39;00m(\u001b[39m\"\u001b[39m\u001b[39mgot unexpected keyword argument(s) \u001b[39m\u001b[39m%s\u001b[39;00m\u001b[39m\"\u001b[39m \u001b[39m%\u001b[39m (\u001b[39mlist\u001b[39m(kwargs\u001b[39m.\u001b[39mkeys()),))\n\u001b[0;32m    496\u001b[0m res \u001b[39m=\u001b[39m AsyncResult(\u001b[39mself\u001b[39m)\n\u001b[1;32m--> 497\u001b[0m \u001b[39mself\u001b[39;49m\u001b[39m.\u001b[39;49m_async_request(handler, args, res)\n\u001b[0;32m    498\u001b[0m \u001b[39mif\u001b[39;00m timeout \u001b[39mis\u001b[39;00m \u001b[39mnot\u001b[39;00m \u001b[39mNone\u001b[39;00m:\n\u001b[0;32m    499\u001b[0m     res\u001b[39m.\u001b[39mset_expiry(timeout)\n",
      "File \u001b[1;32mc:\\GithubSync\\pylabnet\\env\\lib\\site-packages\\rpyc\\core\\protocol.py:479\u001b[0m, in \u001b[0;36mConnection._async_request\u001b[1;34m(self, handler, args, callback)\u001b[0m\n\u001b[0;32m    477\u001b[0m \u001b[39mself\u001b[39m\u001b[39m.\u001b[39m_request_callbacks[seq] \u001b[39m=\u001b[39m callback\n\u001b[0;32m    478\u001b[0m \u001b[39mtry\u001b[39;00m:\n\u001b[1;32m--> 479\u001b[0m     \u001b[39mself\u001b[39;49m\u001b[39m.\u001b[39;49m_send(consts\u001b[39m.\u001b[39;49mMSG_REQUEST, seq, (handler, \u001b[39mself\u001b[39;49m\u001b[39m.\u001b[39;49m_box(args)))\n\u001b[0;32m    480\u001b[0m \u001b[39mexcept\u001b[39;00m \u001b[39mException\u001b[39;00m:\n\u001b[0;32m    481\u001b[0m     \u001b[39m# TODO: review test_remote_exception, logging exceptions show attempt to write on closed stream\u001b[39;00m\n\u001b[0;32m    482\u001b[0m     \u001b[39m# depending on the case, the MSG_REQUEST may or may not have been sent completely\u001b[39;00m\n\u001b[0;32m    483\u001b[0m     \u001b[39m# so, pop the callback and raise to keep response integrity is consistent\u001b[39;00m\n\u001b[0;32m    484\u001b[0m     \u001b[39mself\u001b[39m\u001b[39m.\u001b[39m_request_callbacks\u001b[39m.\u001b[39mpop(seq, \u001b[39mNone\u001b[39;00m)\n",
      "File \u001b[1;32mc:\\GithubSync\\pylabnet\\env\\lib\\site-packages\\rpyc\\core\\protocol.py:263\u001b[0m, in \u001b[0;36mConnection._send\u001b[1;34m(self, msg, seq, args)\u001b[0m\n\u001b[0;32m    261\u001b[0m         \u001b[39mcontinue\u001b[39;00m\n\u001b[0;32m    262\u001b[0m     data \u001b[39m=\u001b[39m \u001b[39mself\u001b[39m\u001b[39m.\u001b[39m_send_queue\u001b[39m.\u001b[39mpop(\u001b[39m0\u001b[39m)\n\u001b[1;32m--> 263\u001b[0m     \u001b[39mself\u001b[39;49m\u001b[39m.\u001b[39;49m_channel\u001b[39m.\u001b[39;49msend(data)\n\u001b[0;32m    264\u001b[0m \u001b[39mfinally\u001b[39;00m:\n\u001b[0;32m    265\u001b[0m     \u001b[39mself\u001b[39m\u001b[39m.\u001b[39m_sendlock\u001b[39m.\u001b[39mrelease()\n",
      "File \u001b[1;32mc:\\GithubSync\\pylabnet\\env\\lib\\site-packages\\rpyc\\core\\channel.py:78\u001b[0m, in \u001b[0;36mChannel.send\u001b[1;34m(self, data)\u001b[0m\n\u001b[0;32m     75\u001b[0m flush_size \u001b[39m=\u001b[39m \u001b[39mlen\u001b[39m(\u001b[39mself\u001b[39m\u001b[39m.\u001b[39mFLUSHER)\n\u001b[0;32m     76\u001b[0m \u001b[39mif\u001b[39;00m \u001b[39mself\u001b[39m\u001b[39m.\u001b[39mFRAME_HEADER\u001b[39m.\u001b[39msize \u001b[39m+\u001b[39m data_size \u001b[39m+\u001b[39m flush_size \u001b[39m<\u001b[39m\u001b[39m=\u001b[39m \u001b[39mself\u001b[39m\u001b[39m.\u001b[39mstream\u001b[39m.\u001b[39mMAX_IO_CHUNK:\n\u001b[0;32m     77\u001b[0m     \u001b[39m# avoid overhead from socket writes requiring GIL to be held\u001b[39;00m\n\u001b[1;32m---> 78\u001b[0m     \u001b[39mself\u001b[39;49m\u001b[39m.\u001b[39;49mstream\u001b[39m.\u001b[39;49mwrite(header \u001b[39m+\u001b[39;49m data \u001b[39m+\u001b[39;49m \u001b[39mself\u001b[39;49m\u001b[39m.\u001b[39;49mFLUSHER)\n\u001b[0;32m     79\u001b[0m \u001b[39melse\u001b[39;00m:\n\u001b[0;32m     80\u001b[0m     \u001b[39m# Data larger than 64KB, the extra writes are negligible\u001b[39;00m\n\u001b[0;32m     81\u001b[0m     part1 \u001b[39m=\u001b[39m \u001b[39mself\u001b[39m\u001b[39m.\u001b[39mstream\u001b[39m.\u001b[39mMAX_IO_CHUNK \u001b[39m-\u001b[39m \u001b[39mself\u001b[39m\u001b[39m.\u001b[39mFRAME_HEADER\u001b[39m.\u001b[39msize\n",
      "File \u001b[1;32mc:\\GithubSync\\pylabnet\\env\\lib\\site-packages\\rpyc\\core\\stream.py:268\u001b[0m, in \u001b[0;36mSocketStream.write\u001b[1;34m(self, data)\u001b[0m\n\u001b[0;32m    266\u001b[0m \u001b[39mtry\u001b[39;00m:\n\u001b[0;32m    267\u001b[0m     \u001b[39mwhile\u001b[39;00m data:\n\u001b[1;32m--> 268\u001b[0m         count \u001b[39m=\u001b[39m \u001b[39mself\u001b[39;49m\u001b[39m.\u001b[39;49msock\u001b[39m.\u001b[39;49msend(data[:\u001b[39mself\u001b[39m\u001b[39m.\u001b[39mMAX_IO_CHUNK])\n\u001b[0;32m    269\u001b[0m         data \u001b[39m=\u001b[39m data[count:]\n\u001b[0;32m    270\u001b[0m \u001b[39mexcept\u001b[39;00m socket\u001b[39m.\u001b[39merror:\n",
      "File \u001b[1;32mc:\\GithubSync\\pylabnet\\env\\lib\\site-packages\\rpyc\\core\\stream.py:95\u001b[0m, in \u001b[0;36mClosedFile.__getattr__\u001b[1;34m(self, name)\u001b[0m\n\u001b[0;32m     93\u001b[0m \u001b[39mif\u001b[39;00m name\u001b[39m.\u001b[39mstartswith(\u001b[39m\"\u001b[39m\u001b[39m__\u001b[39m\u001b[39m\"\u001b[39m):  \u001b[39m# issue 71\u001b[39;00m\n\u001b[0;32m     94\u001b[0m     \u001b[39mraise\u001b[39;00m \u001b[39mAttributeError\u001b[39;00m(\u001b[39m\"\u001b[39m\u001b[39mstream has been closed\u001b[39m\u001b[39m\"\u001b[39m)\n\u001b[1;32m---> 95\u001b[0m \u001b[39mraise\u001b[39;00m \u001b[39mEOFError\u001b[39;00m(\u001b[39m\"\u001b[39m\u001b[39mstream has been closed\u001b[39m\u001b[39m\"\u001b[39m)\n",
      "\u001b[1;31mEOFError\u001b[0m: stream has been closed"
     ]
    }
   ],
   "source": [
    "abc = logger.get_client_data()\n",
    "print(abc)"
   ]
  },
  {
   "cell_type": "code",
   "execution_count": 14,
   "metadata": {},
   "outputs": [],
   "source": [
    "pmX = hm.autoconnect_device(device_tag = 'red power meter', logger=logger)"
   ]
  },
  {
   "cell_type": "code",
   "execution_count": 15,
   "metadata": {},
   "outputs": [
    {
     "ename": "pyvisa.errors.VisaIOError",
     "evalue": "VI_ERROR_SYSTEM_ERROR (-1073807360): Unknown system error (miscellaneous error).\n\n========= Remote Traceback (1) =========\nTraceback (most recent call last):\n  File \"C:\\GithubSync\\pylabnet\\env\\lib\\site-packages\\rpyc\\core\\protocol.py\", line 324, in _dispatch_request\n    res = self._HANDLERS[handler](self, *args)\n  File \"C:\\GithubSync\\pylabnet\\env\\lib\\site-packages\\rpyc\\core\\protocol.py\", line 592, in _handle_call\n    return obj(*args, **dict(kwargs))\n  File \"c:\\githubsync\\pylabnet\\pylabnet\\network\\client_server\\thorlabs_pm101.py\", line 14, in exposed_get_range\n    return self._module.get_range()\n  File \"c:\\githubsync\\pylabnet\\pylabnet\\hardware\\power_meter\\thorlabs_pm101.py\", line 80, in get_range\n    pr = self.device.query(f'SENS:POW:RANG?')\n  File \"C:\\GithubSync\\pylabnet\\env\\lib\\site-packages\\pyvisa\\resources\\messagebased.py\", line 638, in query\n    self.write(message)\n  File \"C:\\GithubSync\\pylabnet\\env\\lib\\site-packages\\pyvisa\\resources\\messagebased.py\", line 197, in write\n    count = self.write_raw(message.encode(enco))\n  File \"C:\\GithubSync\\pylabnet\\env\\lib\\site-packages\\pyvisa\\resources\\messagebased.py\", line 157, in write_raw\n    return self.visalib.write(self.session, message)[0]\n  File \"C:\\GithubSync\\pylabnet\\env\\lib\\site-packages\\pyvisa\\ctwrapper\\functions.py\", line 2796, in write\n    ret = library.viWrite(session, data, len(data), byref(return_count))\n  File \"C:\\GithubSync\\pylabnet\\env\\lib\\site-packages\\pyvisa\\ctwrapper\\highlevel.py\", line 222, in _return_handler\n    return self.handle_return_value(session, ret_value)  # type: ignore\n  File \"C:\\GithubSync\\pylabnet\\env\\lib\\site-packages\\pyvisa\\highlevel.py\", line 251, in handle_return_value\n    raise errors.VisaIOError(rv)\npyvisa.errors.VisaIOError: VI_ERROR_SYSTEM_ERROR (-1073807360): Unknown system error (miscellaneous error).\n",
     "output_type": "error",
     "traceback": [
      "\u001b[1;31m---------------------------------------------------------------------------\u001b[0m",
      "\u001b[1;31mpyvisa.errors.VisaIOError\u001b[0m                 Traceback (most recent call last)",
      "\u001b[1;32mc:\\GithubSync\\pylabnet\\demo\\agrie\\autoconnect_test.ipynb Cell 10\u001b[0m line \u001b[0;36m1\n\u001b[1;32m----> <a href='vscode-notebook-cell:/c%3A/GithubSync/pylabnet/demo/agrie/autoconnect_test.ipynb#X12sZmlsZQ%3D%3D?line=0'>1</a>\u001b[0m pmX\u001b[39m.\u001b[39;49mget_range()\n",
      "File \u001b[1;32mc:\\githubsync\\pylabnet\\pylabnet\\network\\client_server\\thorlabs_pm101.py:32\u001b[0m, in \u001b[0;36mClient.get_range\u001b[1;34m(self)\u001b[0m\n\u001b[0;32m     31\u001b[0m \u001b[39mdef\u001b[39;00m \u001b[39mget_range\u001b[39m(\u001b[39mself\u001b[39m):\n\u001b[1;32m---> 32\u001b[0m     \u001b[39mreturn\u001b[39;00m \u001b[39mself\u001b[39;49m\u001b[39m.\u001b[39;49m_service\u001b[39m.\u001b[39;49mexposed_get_range()\n",
      "File \u001b[1;32mc:\\GithubSync\\pylabnet\\env\\lib\\site-packages\\rpyc\\core\\netref.py:240\u001b[0m, in \u001b[0;36m_make_method.<locals>.__call__\u001b[1;34m(_self, *args, **kwargs)\u001b[0m\n\u001b[0;32m    238\u001b[0m \u001b[39mdef\u001b[39;00m \u001b[39m__call__\u001b[39m(_self, \u001b[39m*\u001b[39margs, \u001b[39m*\u001b[39m\u001b[39m*\u001b[39mkwargs):\n\u001b[0;32m    239\u001b[0m     kwargs \u001b[39m=\u001b[39m \u001b[39mtuple\u001b[39m(kwargs\u001b[39m.\u001b[39mitems())\n\u001b[1;32m--> 240\u001b[0m     \u001b[39mreturn\u001b[39;00m syncreq(_self, consts\u001b[39m.\u001b[39;49mHANDLE_CALL, args, kwargs)\n",
      "File \u001b[1;32mc:\\GithubSync\\pylabnet\\env\\lib\\site-packages\\rpyc\\core\\netref.py:63\u001b[0m, in \u001b[0;36msyncreq\u001b[1;34m(proxy, handler, *args)\u001b[0m\n\u001b[0;32m     51\u001b[0m \u001b[39m\"\"\"Performs a synchronous request on the given proxy object.\u001b[39;00m\n\u001b[0;32m     52\u001b[0m \u001b[39mNot intended to be invoked directly.\u001b[39;00m\n\u001b[0;32m     53\u001b[0m \n\u001b[1;32m   (...)\u001b[0m\n\u001b[0;32m     60\u001b[0m \u001b[39m:returns: the result of the operation\u001b[39;00m\n\u001b[0;32m     61\u001b[0m \u001b[39m\"\"\"\u001b[39;00m\n\u001b[0;32m     62\u001b[0m conn \u001b[39m=\u001b[39m \u001b[39mobject\u001b[39m\u001b[39m.\u001b[39m\u001b[39m__getattribute__\u001b[39m(proxy, \u001b[39m\"\u001b[39m\u001b[39m____conn__\u001b[39m\u001b[39m\"\u001b[39m)\n\u001b[1;32m---> 63\u001b[0m \u001b[39mreturn\u001b[39;00m conn\u001b[39m.\u001b[39;49msync_request(handler, proxy, \u001b[39m*\u001b[39;49margs)\n",
      "File \u001b[1;32mc:\\GithubSync\\pylabnet\\env\\lib\\site-packages\\rpyc\\core\\protocol.py:473\u001b[0m, in \u001b[0;36mConnection.sync_request\u001b[1;34m(self, handler, *args)\u001b[0m\n\u001b[0;32m    467\u001b[0m \u001b[39m\"\"\"requests, sends a synchronous request (waits for the reply to arrive)\u001b[39;00m\n\u001b[0;32m    468\u001b[0m \n\u001b[0;32m    469\u001b[0m \u001b[39m:raises: any exception that the requets may be generated\u001b[39;00m\n\u001b[0;32m    470\u001b[0m \u001b[39m:returns: the result of the request\u001b[39;00m\n\u001b[0;32m    471\u001b[0m \u001b[39m\"\"\"\u001b[39;00m\n\u001b[0;32m    472\u001b[0m timeout \u001b[39m=\u001b[39m \u001b[39mself\u001b[39m\u001b[39m.\u001b[39m_config[\u001b[39m\"\u001b[39m\u001b[39msync_request_timeout\u001b[39m\u001b[39m\"\u001b[39m]\n\u001b[1;32m--> 473\u001b[0m \u001b[39mreturn\u001b[39;00m \u001b[39mself\u001b[39;49m\u001b[39m.\u001b[39;49masync_request(handler, \u001b[39m*\u001b[39;49margs, timeout\u001b[39m=\u001b[39;49mtimeout)\u001b[39m.\u001b[39;49mvalue\n",
      "File \u001b[1;32mc:\\GithubSync\\pylabnet\\env\\lib\\site-packages\\rpyc\\core\\async_.py:102\u001b[0m, in \u001b[0;36mAsyncResult.value\u001b[1;34m(self)\u001b[0m\n\u001b[0;32m    100\u001b[0m \u001b[39mself\u001b[39m\u001b[39m.\u001b[39mwait()\n\u001b[0;32m    101\u001b[0m \u001b[39mif\u001b[39;00m \u001b[39mself\u001b[39m\u001b[39m.\u001b[39m_is_exc:\n\u001b[1;32m--> 102\u001b[0m     \u001b[39mraise\u001b[39;00m \u001b[39mself\u001b[39m\u001b[39m.\u001b[39m_obj\n\u001b[0;32m    103\u001b[0m \u001b[39melse\u001b[39;00m:\n\u001b[0;32m    104\u001b[0m     \u001b[39mreturn\u001b[39;00m \u001b[39mself\u001b[39m\u001b[39m.\u001b[39m_obj\n",
      "\u001b[1;31mpyvisa.errors.VisaIOError\u001b[0m: VI_ERROR_SYSTEM_ERROR (-1073807360): Unknown system error (miscellaneous error).\n\n========= Remote Traceback (1) =========\nTraceback (most recent call last):\n  File \"C:\\GithubSync\\pylabnet\\env\\lib\\site-packages\\rpyc\\core\\protocol.py\", line 324, in _dispatch_request\n    res = self._HANDLERS[handler](self, *args)\n  File \"C:\\GithubSync\\pylabnet\\env\\lib\\site-packages\\rpyc\\core\\protocol.py\", line 592, in _handle_call\n    return obj(*args, **dict(kwargs))\n  File \"c:\\githubsync\\pylabnet\\pylabnet\\network\\client_server\\thorlabs_pm101.py\", line 14, in exposed_get_range\n    return self._module.get_range()\n  File \"c:\\githubsync\\pylabnet\\pylabnet\\hardware\\power_meter\\thorlabs_pm101.py\", line 80, in get_range\n    pr = self.device.query(f'SENS:POW:RANG?')\n  File \"C:\\GithubSync\\pylabnet\\env\\lib\\site-packages\\pyvisa\\resources\\messagebased.py\", line 638, in query\n    self.write(message)\n  File \"C:\\GithubSync\\pylabnet\\env\\lib\\site-packages\\pyvisa\\resources\\messagebased.py\", line 197, in write\n    count = self.write_raw(message.encode(enco))\n  File \"C:\\GithubSync\\pylabnet\\env\\lib\\site-packages\\pyvisa\\resources\\messagebased.py\", line 157, in write_raw\n    return self.visalib.write(self.session, message)[0]\n  File \"C:\\GithubSync\\pylabnet\\env\\lib\\site-packages\\pyvisa\\ctwrapper\\functions.py\", line 2796, in write\n    ret = library.viWrite(session, data, len(data), byref(return_count))\n  File \"C:\\GithubSync\\pylabnet\\env\\lib\\site-packages\\pyvisa\\ctwrapper\\highlevel.py\", line 222, in _return_handler\n    return self.handle_return_value(session, ret_value)  # type: ignore\n  File \"C:\\GithubSync\\pylabnet\\env\\lib\\site-packages\\pyvisa\\highlevel.py\", line 251, in handle_return_value\n    raise errors.VisaIOError(rv)\npyvisa.errors.VisaIOError: VI_ERROR_SYSTEM_ERROR (-1073807360): Unknown system error (miscellaneous error).\n"
     ]
    }
   ],
   "source": [
    "pmX.get_range()"
   ]
  },
  {
   "cell_type": "code",
   "execution_count": null,
   "metadata": {},
   "outputs": [],
   "source": []
  }
 ],
 "metadata": {
  "kernelspec": {
   "display_name": "env",
   "language": "python",
   "name": "python3"
  },
  "language_info": {
   "codemirror_mode": {
    "name": "ipython",
    "version": 3
   },
   "file_extension": ".py",
   "mimetype": "text/x-python",
   "name": "python",
   "nbconvert_exporter": "python",
   "pygments_lexer": "ipython3",
   "version": "3.8.10"
  }
 },
 "nbformat": 4,
 "nbformat_minor": 2
}
