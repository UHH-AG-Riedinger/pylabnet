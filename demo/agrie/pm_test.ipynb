{
 "cells": [
  {
   "cell_type": "code",
   "execution_count": 134,
   "metadata": {},
   "outputs": [],
   "source": [
    "import pyvisa\n",
    "from pylabnet.utils.logging.logger import LogClient\n",
    "from pylabnet.network.core.generic_server import GenericServer\n",
    "from pylabnet.hardware.power_meter.thorlabs_pm320e import Driver\n",
    "import time\n",
    "import numpy as np\n",
    "import matplotlib.pyplot as plt\n",
    "from pylabnet.network.client_server.thorlabs_pm320e import Client as power_meter_Client\n",
    "import pylabnet.utils.helper_methods as hm\n",
    "\n",
    "#import importlib\n",
    "\n",
    "import os"
   ]
  },
  {
   "cell_type": "code",
   "execution_count": 71,
   "metadata": {},
   "outputs": [],
   "source": [
    "logger = LogClient(\n",
    "    host='192.168.1.101',\n",
    "    port=12345,\n",
    "    module_tag='first test with pm'\n",
    ")"
   ]
  },
  {
   "cell_type": "code",
   "execution_count": 3,
   "metadata": {},
   "outputs": [],
   "source": [
    "power_meter = Driver(\n",
    "    gpib_address=\"USB0::0x1313::0x8076::M00940375::INSTR\", \n",
    "    logger=logger\n",
    ")"
   ]
  },
  {
   "cell_type": "code",
   "execution_count": 7,
   "metadata": {},
   "outputs": [
    {
     "ename": "VisaIOError",
     "evalue": "VI_ERROR_TMO (-1073807339): Timeout expired before operation completed.",
     "output_type": "error",
     "traceback": [
      "\u001b[1;31m---------------------------------------------------------------------------\u001b[0m",
      "\u001b[1;31mVisaIOError\u001b[0m                               Traceback (most recent call last)",
      "\u001b[1;32mc:\\GithubSync\\pylabnet\\demo\\agrie\\pm_test.ipynb Cell 4\u001b[0m line \u001b[0;36m1\n\u001b[1;32m----> <a href='vscode-notebook-cell:/c%3A/GithubSync/pylabnet/demo/agrie/pm_test.ipynb#W3sZmlsZQ%3D%3D?line=0'>1</a>\u001b[0m power_meter\u001b[39m.\u001b[39;49mget_power(\u001b[39m1\u001b[39;49m)\n",
      "File \u001b[1;32mc:\\githubsync\\pylabnet\\pylabnet\\hardware\\power_meter\\thorlabs_pm320e.py:40\u001b[0m, in \u001b[0;36mDriver.get_power\u001b[1;34m(self, channel)\u001b[0m\n\u001b[0;32m     33\u001b[0m \u001b[39mdef\u001b[39;00m \u001b[39mget_power\u001b[39m(\u001b[39mself\u001b[39m, channel):\n\u001b[0;32m     34\u001b[0m     \u001b[39m\"\"\" Returns the current power in watts on a desired channel\u001b[39;00m\n\u001b[0;32m     35\u001b[0m \n\u001b[0;32m     36\u001b[0m \u001b[39m    :param channel: (int) channel to read power of (either 1 or 2)\u001b[39;00m\n\u001b[0;32m     37\u001b[0m \u001b[39m    :return: (float) power in watts\u001b[39;00m\n\u001b[0;32m     38\u001b[0m \u001b[39m    \"\"\"\u001b[39;00m\n\u001b[1;32m---> 40\u001b[0m     power \u001b[39m=\u001b[39m \u001b[39mself\u001b[39;49m\u001b[39m.\u001b[39;49mdevice\u001b[39m.\u001b[39;49mquery(\u001b[39mf\u001b[39;49m\u001b[39m'\u001b[39;49m\u001b[39m:POW\u001b[39;49m\u001b[39m{\u001b[39;49;00mchannel\u001b[39m}\u001b[39;49;00m\u001b[39m:VAL?\u001b[39;49m\u001b[39m'\u001b[39;49m)\n\u001b[0;32m     41\u001b[0m     \u001b[39mreturn\u001b[39;00m \u001b[39mfloat\u001b[39m(power)\n",
      "File \u001b[1;32mc:\\GithubSync\\pylabnet\\env\\lib\\site-packages\\pyvisa\\resources\\messagebased.py:644\u001b[0m, in \u001b[0;36mMessageBasedResource.query\u001b[1;34m(self, message, delay)\u001b[0m\n\u001b[0;32m    641\u001b[0m \u001b[39mif\u001b[39;00m delay \u001b[39m>\u001b[39m \u001b[39m0.0\u001b[39m:\n\u001b[0;32m    642\u001b[0m     time\u001b[39m.\u001b[39msleep(delay)\n\u001b[1;32m--> 644\u001b[0m \u001b[39mreturn\u001b[39;00m \u001b[39mself\u001b[39;49m\u001b[39m.\u001b[39;49mread()\n",
      "File \u001b[1;32mc:\\GithubSync\\pylabnet\\env\\lib\\site-packages\\pyvisa\\resources\\messagebased.py:486\u001b[0m, in \u001b[0;36mMessageBasedResource.read\u001b[1;34m(self, termination, encoding)\u001b[0m\n\u001b[0;32m    484\u001b[0m \u001b[39mif\u001b[39;00m termination \u001b[39mis\u001b[39;00m \u001b[39mNone\u001b[39;00m:\n\u001b[0;32m    485\u001b[0m     termination \u001b[39m=\u001b[39m \u001b[39mself\u001b[39m\u001b[39m.\u001b[39m_read_termination\n\u001b[1;32m--> 486\u001b[0m     message \u001b[39m=\u001b[39m \u001b[39mself\u001b[39;49m\u001b[39m.\u001b[39;49m_read_raw()\u001b[39m.\u001b[39mdecode(enco)\n\u001b[0;32m    487\u001b[0m \u001b[39melse\u001b[39;00m:\n\u001b[0;32m    488\u001b[0m     \u001b[39mwith\u001b[39;00m \u001b[39mself\u001b[39m\u001b[39m.\u001b[39mread_termination_context(termination):\n",
      "File \u001b[1;32mc:\\GithubSync\\pylabnet\\env\\lib\\site-packages\\pyvisa\\resources\\messagebased.py:442\u001b[0m, in \u001b[0;36mMessageBasedResource._read_raw\u001b[1;34m(self, size)\u001b[0m\n\u001b[0;32m    435\u001b[0m     \u001b[39mwhile\u001b[39;00m status \u001b[39m==\u001b[39m loop_status:\n\u001b[0;32m    436\u001b[0m         logger\u001b[39m.\u001b[39mdebug(\n\u001b[0;32m    437\u001b[0m             \u001b[39m\"\u001b[39m\u001b[39m%s\u001b[39;00m\u001b[39m - reading \u001b[39m\u001b[39m%d\u001b[39;00m\u001b[39m bytes (last status \u001b[39m\u001b[39m%r\u001b[39;00m\u001b[39m)\u001b[39m\u001b[39m\"\u001b[39m,\n\u001b[0;32m    438\u001b[0m             \u001b[39mself\u001b[39m\u001b[39m.\u001b[39m_resource_name,\n\u001b[0;32m    439\u001b[0m             size,\n\u001b[0;32m    440\u001b[0m             status,\n\u001b[0;32m    441\u001b[0m         )\n\u001b[1;32m--> 442\u001b[0m         chunk, status \u001b[39m=\u001b[39m \u001b[39mself\u001b[39;49m\u001b[39m.\u001b[39;49mvisalib\u001b[39m.\u001b[39;49mread(\u001b[39mself\u001b[39;49m\u001b[39m.\u001b[39;49msession, size)\n\u001b[0;32m    443\u001b[0m         ret\u001b[39m.\u001b[39mextend(chunk)\n\u001b[0;32m    444\u001b[0m \u001b[39mexcept\u001b[39;00m errors\u001b[39m.\u001b[39mVisaIOError \u001b[39mas\u001b[39;00m e:\n",
      "File \u001b[1;32mc:\\GithubSync\\pylabnet\\env\\lib\\site-packages\\pyvisa\\ctwrapper\\functions.py:2337\u001b[0m, in \u001b[0;36mread\u001b[1;34m(library, session, count)\u001b[0m\n\u001b[0;32m   2335\u001b[0m buffer \u001b[39m=\u001b[39m create_string_buffer(count)\n\u001b[0;32m   2336\u001b[0m return_count \u001b[39m=\u001b[39m ViUInt32()\n\u001b[1;32m-> 2337\u001b[0m ret \u001b[39m=\u001b[39m library\u001b[39m.\u001b[39;49mviRead(session, buffer, count, byref(return_count))\n\u001b[0;32m   2338\u001b[0m \u001b[39mreturn\u001b[39;00m buffer\u001b[39m.\u001b[39mraw[: return_count\u001b[39m.\u001b[39mvalue], ret\n",
      "File \u001b[1;32mc:\\GithubSync\\pylabnet\\env\\lib\\site-packages\\pyvisa\\ctwrapper\\highlevel.py:222\u001b[0m, in \u001b[0;36mIVIVisaLibrary._return_handler\u001b[1;34m(self, ret_value, func, arguments)\u001b[0m\n\u001b[0;32m    219\u001b[0m         \u001b[39m# Set session back to a safe value\u001b[39;00m\n\u001b[0;32m    220\u001b[0m         session \u001b[39m=\u001b[39m \u001b[39mNone\u001b[39;00m\n\u001b[1;32m--> 222\u001b[0m \u001b[39mreturn\u001b[39;00m \u001b[39mself\u001b[39;49m\u001b[39m.\u001b[39;49mhandle_return_value(session, ret_value)\n",
      "File \u001b[1;32mc:\\GithubSync\\pylabnet\\env\\lib\\site-packages\\pyvisa\\highlevel.py:251\u001b[0m, in \u001b[0;36mVisaLibraryBase.handle_return_value\u001b[1;34m(self, session, status_code)\u001b[0m\n\u001b[0;32m    248\u001b[0m     \u001b[39mself\u001b[39m\u001b[39m.\u001b[39m_last_status_in_session[session] \u001b[39m=\u001b[39m rv\n\u001b[0;32m    250\u001b[0m \u001b[39mif\u001b[39;00m rv \u001b[39m<\u001b[39m \u001b[39m0\u001b[39m:\n\u001b[1;32m--> 251\u001b[0m     \u001b[39mraise\u001b[39;00m errors\u001b[39m.\u001b[39mVisaIOError(rv)\n\u001b[0;32m    253\u001b[0m \u001b[39mif\u001b[39;00m rv \u001b[39min\u001b[39;00m \u001b[39mself\u001b[39m\u001b[39m.\u001b[39missue_warning_on:\n\u001b[0;32m    254\u001b[0m     \u001b[39mif\u001b[39;00m session \u001b[39mand\u001b[39;00m rv \u001b[39mnot\u001b[39;00m \u001b[39min\u001b[39;00m \u001b[39mself\u001b[39m\u001b[39m.\u001b[39m_ignore_warning_in_session[session]:\n",
      "\u001b[1;31mVisaIOError\u001b[0m: VI_ERROR_TMO (-1073807339): Timeout expired before operation completed."
     ]
    }
   ],
   "source": [
    "power_meter.get_power(1)"
   ]
  },
  {
   "cell_type": "code",
   "execution_count": 8,
   "metadata": {},
   "outputs": [
    {
     "name": "stdout",
     "output_type": "stream",
     "text": [
      "6.91337e-06\n"
     ]
    }
   ],
   "source": [
    "power = power_meter.device.query(f'MEAS:POW?')\n",
    "print(float(power))"
   ]
  },
  {
   "cell_type": "code",
   "execution_count": 12,
   "metadata": {},
   "outputs": [],
   "source": [
    "power_meter2 = power_meter_Client(\n",
    "    host='192.168.1.102',\n",
    "    port=2407,\n",
    ")"
   ]
  },
  {
   "cell_type": "code",
   "execution_count": 69,
   "metadata": {},
   "outputs": [
    {
     "ename": "AttributeError",
     "evalue": "'NoneType' object has no attribute 'exposed_get_client_data'",
     "output_type": "error",
     "traceback": [
      "\u001b[1;31m---------------------------------------------------------------------------\u001b[0m",
      "\u001b[1;31mAttributeError\u001b[0m                            Traceback (most recent call last)",
      "\u001b[1;32mc:\\GithubSync\\pylabnet\\demo\\agrie\\pm_test.ipynb Cell 7\u001b[0m line \u001b[0;36m1\n\u001b[1;32m----> <a href='vscode-notebook-cell:/c%3A/GithubSync/pylabnet/demo/agrie/pm_test.ipynb#W6sZmlsZQ%3D%3D?line=0'>1</a>\u001b[0m aa \u001b[39m=\u001b[39m logger\u001b[39m.\u001b[39;49mget_client_data()\n",
      "File \u001b[1;32mc:\\githubsync\\pylabnet\\pylabnet\\utils\\logging\\logger.py:356\u001b[0m, in \u001b[0;36mLogClient.get_client_data\u001b[1;34m(self)\u001b[0m\n\u001b[0;32m    355\u001b[0m \u001b[39mdef\u001b[39;00m \u001b[39mget_client_data\u001b[39m(\u001b[39mself\u001b[39m):\n\u001b[1;32m--> 356\u001b[0m     \u001b[39mreturn\u001b[39;00m pickle\u001b[39m.\u001b[39mloads(\u001b[39mself\u001b[39;49m\u001b[39m.\u001b[39;49m_service\u001b[39m.\u001b[39;49mexposed_get_client_data())\n",
      "\u001b[1;31mAttributeError\u001b[0m: 'NoneType' object has no attribute 'exposed_get_client_data'"
     ]
    }
   ],
   "source": [
    "aa = logger.get_client_data()"
   ]
  },
  {
   "cell_type": "code",
   "execution_count": 15,
   "metadata": {},
   "outputs": [
    {
     "data": {
      "text/plain": [
       "{}"
      ]
     },
     "execution_count": 15,
     "metadata": {},
     "output_type": "execute_result"
    }
   ],
   "source": [
    "aa"
   ]
  },
  {
   "cell_type": "code",
   "execution_count": 35,
   "metadata": {},
   "outputs": [
    {
     "name": "stdout",
     "output_type": "stream",
     "text": [
      "{'logger_GUI': {'ip': '192.168.1.101', 'timestamp': '2023-11-15, 16:10:44', 'ui': 'logger_remote', 'port': 12346}, 'logger_GUI_proxy': {'ip': '192.168.1.102', 'timestamp': '2023-11-15, 16:09:55', 'ui': 'logger_remote', 'port': 1784}, 'thorlabs_pm320e_server_USB0::0x1313::0x8076::M00940375::INSTR': {'ip': '192.168.1.102', 'timestamp': '2023-11-17, 17:50:27', 'port': 18377, 'device_id': 'USB0::0x1313::0x8076::M00940375::INSTR', 'lab_name': 'NO_LAB', 'server_type': 'thorlabs_pm320e'}, 'first test with pm': {'ip': '192.168.1.102', 'timestamp': '2023-11-17, 17:51:14'}, 'auto_instance': {'ip': '192.168.1.102', 'timestamp': '2023-11-17, 18:04:42'}}\n"
     ]
    }
   ],
   "source": [
    "print(aa)"
   ]
  },
  {
   "cell_type": "markdown",
   "metadata": {},
   "source": []
  },
  {
   "cell_type": "code",
   "execution_count": 30,
   "metadata": {},
   "outputs": [
    {
     "data": {
      "text/plain": [
       "{'ip': '192.168.1.102',\n",
       " 'timestamp': '2023-11-17, 17:50:27',\n",
       " 'port': 18377,\n",
       " 'device_id': 'USB0::0x1313::0x8076::M00940375::INSTR',\n",
       " 'lab_name': 'NO_LAB',\n",
       " 'server_type': 'thorlabs_pm320e'}"
      ]
     },
     "execution_count": 30,
     "metadata": {},
     "output_type": "execute_result"
    }
   ],
   "source": [
    "aa['thorlabs_pm320e_server_USB0::0x1313::0x8076::M00940375::INSTR']"
   ]
  },
  {
   "cell_type": "code",
   "execution_count": 26,
   "metadata": {},
   "outputs": [
    {
     "ename": "TypeError",
     "evalue": "info() missing 1 required positional argument: 'msg_str'",
     "output_type": "error",
     "traceback": [
      "\u001b[1;31m---------------------------------------------------------------------------\u001b[0m",
      "\u001b[1;31mTypeError\u001b[0m                                 Traceback (most recent call last)",
      "\u001b[1;32mc:\\GithubSync\\pylabnet\\demo\\agrie\\pm_test.ipynb Cell 12\u001b[0m line \u001b[0;36m1\n\u001b[1;32m----> <a href='vscode-notebook-cell:/c%3A/GithubSync/pylabnet/demo/agrie/pm_test.ipynb#X13sZmlsZQ%3D%3D?line=0'>1</a>\u001b[0m logger\u001b[39m.\u001b[39;49minfo()\n",
      "\u001b[1;31mTypeError\u001b[0m: info() missing 1 required positional argument: 'msg_str'"
     ]
    }
   ],
   "source": []
  },
  {
   "cell_type": "code",
   "execution_count": 36,
   "metadata": {},
   "outputs": [],
   "source": [
    "#import importlib\n",
    "\n",
    "def connect_device(dev_tag):\n",
    "    auto_connect_logger = LogClient(\n",
    "        host='192.168.1.101',\n",
    "        port=12345,\n",
    "        module_tag='auto_instance'\n",
    "    )\n",
    "    client_data = logger.get_client_data()\n",
    "    server = client_data[dev_tag]['server_type']\n",
    "    ip = client_data[dev_tag]['ip']\n",
    "    port = client_data[dev_tag]['port']\n",
    "\n",
    "    # Instantiate module\n",
    "    try:\n",
    "        #pylabnet\\network\\client_server\n",
    "        mod_inst = importlib.import_module(f'pylabnet.network.client_server.{server}')  ###### get correct path\n",
    "    except ModuleNotFoundError:\n",
    "        auto_connect_logger.error(f'No module found in pylabnet.launchers.servers named {server}.py')\n",
    "        raise\n",
    "    \n",
    "\n",
    "    dev_instance = mod_inst.Client(\n",
    "        host=ip,\n",
    "        port=port,\n",
    "    )\n",
    "    auto_connect_logger.close_server()\n",
    "    return dev_instance\n",
    "\n"
   ]
  },
  {
   "cell_type": "code",
   "execution_count": 37,
   "metadata": {},
   "outputs": [],
   "source": [
    "pm = connect_device('thorlabs_pm320e_server_USB0::0x1313::0x8076::M00940375::INSTR')"
   ]
  },
  {
   "cell_type": "code",
   "execution_count": 44,
   "metadata": {},
   "outputs": [
    {
     "name": "stdout",
     "output_type": "stream",
     "text": [
      "awg\n",
      "confocal\n",
      "counter\n",
      "cw_mw\n",
      "filterwheel\n",
      "ifm\n",
      "interface\n",
      "lasers\n",
      "lockbox\n",
      "mcc_usb_daq\n",
      "multimeter\n",
      "nanopositioners\n",
      "ni_daqs\n",
      "oscilloscopes\n",
      "polarization\n",
      "power_meter\n",
      "pressure_gauge\n",
      "p_gen\n",
      "smart_lab\n",
      "spectrum_analyzer\n",
      "staticline\n",
      "superK\n",
      "wavemeter\n"
     ]
    }
   ],
   "source": [
    "#C:\\GithubSync\\pylabnet\\pylabnet\\hardwareC:\\GithubSync\\pylabnet\\pylabnet\\hardware\n",
    "#pylabnet\\hardware\n",
    "\n",
    "\n",
    "with os.scandir('C:\\GithubSync\\pylabnet\\pylabnet\\hardware') as it:\n",
    "    for entry in it:\n",
    "        if not entry.name.startswith('.') and entry.is_dir():\n",
    "            print(entry.name)"
   ]
  },
  {
   "cell_type": "code",
   "execution_count": 57,
   "metadata": {},
   "outputs": [
    {
     "name": "stdout",
     "output_type": "stream",
     "text": [
      "C:\\GithubSync\\pylabnet\\pylabnet\\hardware\\awg\\awg_utils.py\n"
     ]
    }
   ],
   "source": [
    "server = 'awg_utils'\n",
    "server_file = server + '.py'\n",
    "driver_base_dir = 'C:\\GithubSync\\pylabnet\\pylabnet\\hardware'\n",
    "with os.scandir(driver_base_dir) as it:\n",
    "    for instr_class in it:\n",
    "        if not instr_class.name.startswith('.') and instr_class.is_dir():\n",
    "            with os.scandir(os.path.join(driver_base_dir, instr_class.name)) as drivers:\n",
    "                for driver in drivers:\n",
    "                    #print(driver.name)\n",
    "                    if not driver.name.startswith('.') and driver.is_file() and (driver.name == server_file):\n",
    "                        print(os.path.join(driver_base_dir, instr_class.name, driver.name))"
   ]
  },
  {
   "cell_type": "code",
   "execution_count": 55,
   "metadata": {},
   "outputs": [],
   "source": [
    "aa = server + '.py'"
   ]
  },
  {
   "cell_type": "code",
   "execution_count": 59,
   "metadata": {},
   "outputs": [
    {
     "name": "stdout",
     "output_type": "stream",
     "text": [
      "{'loggerX': 'logger_dummy', 'gpib_address': 'device_id'}\n"
     ]
    }
   ],
   "source": [
    "arglist = [['loggerX', 'logger_dummy'], ['gpib_address', 'device_id']]\n",
    "\n",
    "kwargs = dict()\n",
    "for entry in arglist:\n",
    "    kwargs[entry[0]] = entry[1]\n",
    "\n",
    "print(kwargs)\n"
   ]
  },
  {
   "cell_type": "code",
   "execution_count": 60,
   "metadata": {},
   "outputs": [],
   "source": [
    "def dummy_fct(loggerX = None, gpib_address = None):\n",
    "    print(f\"arg1 = {loggerX} \\narg2 = {gpib_address}\")"
   ]
  },
  {
   "cell_type": "code",
   "execution_count": 63,
   "metadata": {},
   "outputs": [
    {
     "name": "stdout",
     "output_type": "stream",
     "text": [
      "arg1 = logger_dummy \n",
      "arg2 = device_id\n"
     ]
    }
   ],
   "source": [
    "dummy_fct(**kwargs)"
   ]
  },
  {
   "cell_type": "code",
   "execution_count": 66,
   "metadata": {},
   "outputs": [],
   "source": [
    "from pylabnet.hardware.power_meter.thorlabs_pm101 import Driver as driver101"
   ]
  },
  {
   "cell_type": "code",
   "execution_count": 171,
   "metadata": {},
   "outputs": [],
   "source": [
    "pm101 = driver101(\n",
    "    usb_address=\"USB0::0x1313::0x8076::M00940375::INSTR\", \n",
    "    logger=logger\n",
    ")"
   ]
  },
  {
   "cell_type": "code",
   "execution_count": 177,
   "metadata": {},
   "outputs": [
    {
     "data": {
      "text/plain": [
       "6.95742e-06"
      ]
     },
     "execution_count": 177,
     "metadata": {},
     "output_type": "execute_result"
    }
   ],
   "source": [
    "pm101.get_power()"
   ]
  },
  {
   "cell_type": "code",
   "execution_count": 176,
   "metadata": {},
   "outputs": [
    {
     "data": {
      "text/plain": [
       "('USB0::0x1313::0x8076::M00940375::INSTR', 'ASRL1::INSTR')"
      ]
     },
     "execution_count": 176,
     "metadata": {},
     "output_type": "execute_result"
    }
   ],
   "source": [
    "rm = pyvisa.ResourceManager()\n",
    "rm.list_resources()"
   ]
  },
  {
   "cell_type": "code",
   "execution_count": 120,
   "metadata": {},
   "outputs": [],
   "source": [
    "dev_temp  = rm.open_resource('USB0::0x1313::0x8076::M00940375::INSTR')"
   ]
  },
  {
   "cell_type": "code",
   "execution_count": 121,
   "metadata": {},
   "outputs": [],
   "source": [
    "device_id = dev_temp.query('*IDN?', 2)"
   ]
  },
  {
   "cell_type": "code",
   "execution_count": null,
   "metadata": {},
   "outputs": [],
   "source": [
    "device_id = dev_temp.write('')"
   ]
  },
  {
   "cell_type": "code",
   "execution_count": 119,
   "metadata": {},
   "outputs": [
    {
     "data": {
      "text/plain": [
       "ResourceInfo(interface_type=<InterfaceType.usb: 7>, interface_board_number=0, resource_class='INSTR', resource_name='USB0::0x1313::0x8076::M00940375::0::INSTR', alias=None)"
      ]
     },
     "execution_count": 119,
     "metadata": {},
     "output_type": "execute_result"
    }
   ],
   "source": [
    "rm.resource_info('USB0::0x1313::0x8076::M00940375::INSTR')"
   ]
  },
  {
   "cell_type": "code",
   "execution_count": 99,
   "metadata": {},
   "outputs": [
    {
     "ename": "Error",
     "evalue": "The session 4 does not seem to be valid as it does not have any last status",
     "output_type": "error",
     "traceback": [
      "\u001b[1;31m---------------------------------------------------------------------------\u001b[0m",
      "\u001b[1;31mKeyError\u001b[0m                                  Traceback (most recent call last)",
      "File \u001b[1;32mc:\\GithubSync\\pylabnet\\env\\lib\\site-packages\\pyvisa\\highlevel.py:274\u001b[0m, in \u001b[0;36mVisaLibraryBase.get_last_status_in_session\u001b[1;34m(self, session)\u001b[0m\n\u001b[0;32m    273\u001b[0m \u001b[39mtry\u001b[39;00m:\n\u001b[1;32m--> 274\u001b[0m     \u001b[39mreturn\u001b[39;00m \u001b[39mself\u001b[39;49m\u001b[39m.\u001b[39;49m_last_status_in_session[session]\n\u001b[0;32m    275\u001b[0m \u001b[39mexcept\u001b[39;00m \u001b[39mKeyError\u001b[39;00m:\n",
      "\u001b[1;31mKeyError\u001b[0m: 4",
      "\nDuring handling of the above exception, another exception occurred:\n",
      "\u001b[1;31mError\u001b[0m                                     Traceback (most recent call last)",
      "\u001b[1;32mc:\\GithubSync\\pylabnet\\demo\\agrie\\pm_test.ipynb Cell 28\u001b[0m line \u001b[0;36m1\n\u001b[1;32m----> <a href='vscode-notebook-cell:/c%3A/GithubSync/pylabnet/demo/agrie/pm_test.ipynb#X36sZmlsZQ%3D%3D?line=0'>1</a>\u001b[0m dev_temp\u001b[39m.\u001b[39;49mlast_status\n",
      "File \u001b[1;32mc:\\GithubSync\\pylabnet\\env\\lib\\site-packages\\pyvisa\\resources\\resource.py:216\u001b[0m, in \u001b[0;36mResource.last_status\u001b[1;34m(self)\u001b[0m\n\u001b[0;32m    213\u001b[0m \u001b[39m@property\u001b[39m\n\u001b[0;32m    214\u001b[0m \u001b[39mdef\u001b[39;00m \u001b[39mlast_status\u001b[39m(\u001b[39mself\u001b[39m) \u001b[39m-\u001b[39m\u001b[39m>\u001b[39m constants\u001b[39m.\u001b[39mStatusCode:\n\u001b[0;32m    215\u001b[0m     \u001b[39m\"\"\"Last status code for this session.\"\"\"\u001b[39;00m\n\u001b[1;32m--> 216\u001b[0m     \u001b[39mreturn\u001b[39;00m \u001b[39mself\u001b[39;49m\u001b[39m.\u001b[39;49mvisalib\u001b[39m.\u001b[39;49mget_last_status_in_session(\u001b[39mself\u001b[39;49m\u001b[39m.\u001b[39;49msession)\n",
      "File \u001b[1;32mc:\\GithubSync\\pylabnet\\env\\lib\\site-packages\\pyvisa\\highlevel.py:276\u001b[0m, in \u001b[0;36mVisaLibraryBase.get_last_status_in_session\u001b[1;34m(self, session)\u001b[0m\n\u001b[0;32m    274\u001b[0m     \u001b[39mreturn\u001b[39;00m \u001b[39mself\u001b[39m\u001b[39m.\u001b[39m_last_status_in_session[session]\n\u001b[0;32m    275\u001b[0m \u001b[39mexcept\u001b[39;00m \u001b[39mKeyError\u001b[39;00m:\n\u001b[1;32m--> 276\u001b[0m     \u001b[39mraise\u001b[39;00m errors\u001b[39m.\u001b[39mError(\n\u001b[0;32m    277\u001b[0m         \u001b[39m\"\u001b[39m\u001b[39mThe session \u001b[39m\u001b[39m%r\u001b[39;00m\u001b[39m does not seem to be valid as it does not have any last status\u001b[39m\u001b[39m\"\u001b[39m\n\u001b[0;32m    278\u001b[0m         \u001b[39m%\u001b[39m session\n\u001b[0;32m    279\u001b[0m     )\n",
      "\u001b[1;31mError\u001b[0m: The session 4 does not seem to be valid as it does not have any last status"
     ]
    }
   ],
   "source": [
    "dev_temp.last_status\n"
   ]
  },
  {
   "cell_type": "code",
   "execution_count": 84,
   "metadata": {},
   "outputs": [
    {
     "ename": "AttributeError",
     "evalue": "'USBInstrument' object has no attribute 'bytes_in_buffer'",
     "output_type": "error",
     "traceback": [
      "\u001b[1;31m---------------------------------------------------------------------------\u001b[0m",
      "\u001b[1;31mAttributeError\u001b[0m                            Traceback (most recent call last)",
      "\u001b[1;32mc:\\GithubSync\\pylabnet\\demo\\agrie\\pm_test.ipynb Cell 29\u001b[0m line \u001b[0;36m1\n\u001b[1;32m----> <a href='vscode-notebook-cell:/c%3A/GithubSync/pylabnet/demo/agrie/pm_test.ipynb#X40sZmlsZQ%3D%3D?line=0'>1</a>\u001b[0m dev_temp\u001b[39m.\u001b[39;49mbytes_in_buffer\n",
      "\u001b[1;31mAttributeError\u001b[0m: 'USBInstrument' object has no attribute 'bytes_in_buffer'"
     ]
    }
   ],
   "source": [
    "dev_temp.bytes_in_buffer"
   ]
  },
  {
   "cell_type": "code",
   "execution_count": 122,
   "metadata": {},
   "outputs": [],
   "source": [
    "dev_temp.before_close()\n",
    "dev_temp.close()"
   ]
  },
  {
   "cell_type": "code",
   "execution_count": 90,
   "metadata": {},
   "outputs": [],
   "source": []
  },
  {
   "cell_type": "code",
   "execution_count": 103,
   "metadata": {},
   "outputs": [],
   "source": [
    "abc = logger.get_client_data()"
   ]
  },
  {
   "cell_type": "code",
   "execution_count": 104,
   "metadata": {},
   "outputs": [
    {
     "name": "stdout",
     "output_type": "stream",
     "text": [
      "{'logger_GUI': {'ip': '192.168.1.101', 'timestamp': '2023-11-17, 20:03:46', 'ui': 'logger_remote', 'port': 12346}, 'logger_GUI_proxy': {'ip': '192.168.1.102', 'timestamp': '2023-11-17, 20:03:06', 'ui': 'logger_remote', 'port': 28781}}\n"
     ]
    }
   ],
   "source": [
    "print(abc)"
   ]
  },
  {
   "cell_type": "code",
   "execution_count": 178,
   "metadata": {},
   "outputs": [],
   "source": [
    "open_res = rm.list_opened_resources()"
   ]
  },
  {
   "cell_type": "code",
   "execution_count": 179,
   "metadata": {},
   "outputs": [
    {
     "data": {
      "text/plain": [
       "[<'USBInstrument'('USB0::0x1313::0x8076::M00940375::0::INSTR')>]"
      ]
     },
     "execution_count": 179,
     "metadata": {},
     "output_type": "execute_result"
    }
   ],
   "source": [
    "open_res"
   ]
  },
  {
   "cell_type": "code",
   "execution_count": 116,
   "metadata": {},
   "outputs": [],
   "source": [
    "temp_res = open_res[-1]\n",
    "temp_res.before_close()\n",
    "temp_res.close()"
   ]
  },
  {
   "cell_type": "code",
   "execution_count": 125,
   "metadata": {},
   "outputs": [
    {
     "data": {
      "text/plain": [
       "3"
      ]
     },
     "execution_count": 125,
     "metadata": {},
     "output_type": "execute_result"
    }
   ],
   "source": [
    "len('abs')"
   ]
  },
  {
   "cell_type": "code",
   "execution_count": 128,
   "metadata": {},
   "outputs": [
    {
     "name": "stdout",
     "output_type": "stream",
     "text": [
      "0\n",
      "1\n",
      "2\n"
     ]
    }
   ],
   "source": [
    "n = []\n",
    "for i, kk in enumerate([1,2,3]):\n",
    "    print(i)\n",
    "    n.append(None)"
   ]
  },
  {
   "cell_type": "code",
   "execution_count": 129,
   "metadata": {},
   "outputs": [
    {
     "data": {
      "text/plain": [
       "[None, None, None]"
      ]
     },
     "execution_count": 129,
     "metadata": {},
     "output_type": "execute_result"
    }
   ],
   "source": [
    "n"
   ]
  },
  {
   "cell_type": "code",
   "execution_count": 131,
   "metadata": {},
   "outputs": [],
   "source": [
    "a, b, c = n"
   ]
  },
  {
   "cell_type": "code",
   "execution_count": 169,
   "metadata": {},
   "outputs": [
    {
     "data": {
      "text/plain": [
       "<module 'pylabnet.utils.logging.logger' from 'c:\\\\githubsync\\\\pylabnet\\\\pylabnet\\\\utils\\\\logging\\\\logger.py'>"
      ]
     },
     "execution_count": 169,
     "metadata": {},
     "output_type": "execute_result"
    }
   ],
   "source": [
    "importlib.reload(hm)\n",
    "importlib.reload(logload)"
   ]
  },
  {
   "cell_type": "code",
   "execution_count": 136,
   "metadata": {},
   "outputs": [],
   "source": [
    "master_data = hm.load_config('static_proxy')"
   ]
  },
  {
   "cell_type": "code",
   "execution_count": 137,
   "metadata": {},
   "outputs": [
    {
     "data": {
      "text/plain": [
       "{'logger_path': 'C:\\\\pylabnet_logs',\n",
       " 'master_ip': '192.168.1.101',\n",
       " 'master_log_port': 12345,\n",
       " 'master_gui_port': 12346}"
      ]
     },
     "execution_count": 137,
     "metadata": {},
     "output_type": "execute_result"
    }
   ],
   "source": [
    "master_data"
   ]
  },
  {
   "cell_type": "code",
   "execution_count": 152,
   "metadata": {},
   "outputs": [],
   "source": []
  },
  {
   "cell_type": "code",
   "execution_count": 161,
   "metadata": {},
   "outputs": [],
   "source": [
    "pmX = hm.autoconnect_device(device_tag = 'thorlabs_pm101_server_USB0::0x1313::0x8076::M00940375::INSTR')"
   ]
  },
  {
   "cell_type": "code",
   "execution_count": 165,
   "metadata": {},
   "outputs": [
    {
     "ename": "TypeError",
     "evalue": "get_wavelength() missing 1 required positional argument: 'channel'",
     "output_type": "error",
     "traceback": [
      "\u001b[1;31m---------------------------------------------------------------------------\u001b[0m",
      "\u001b[1;31mTypeError\u001b[0m                                 Traceback (most recent call last)",
      "\u001b[1;32mc:\\GithubSync\\pylabnet\\demo\\agrie\\pm_test.ipynb Cell 46\u001b[0m line \u001b[0;36m1\n\u001b[1;32m----> <a href='vscode-notebook-cell:/c%3A/GithubSync/pylabnet/demo/agrie/pm_test.ipynb#X63sZmlsZQ%3D%3D?line=0'>1</a>\u001b[0m pmX\u001b[39m.\u001b[39;49mget_wavelength()\n",
      "\u001b[1;31mTypeError\u001b[0m: get_wavelength() missing 1 required positional argument: 'channel'"
     ]
    }
   ],
   "source": [
    "pmX.get_wavelength()"
   ]
  },
  {
   "cell_type": "code",
   "execution_count": 159,
   "metadata": {},
   "outputs": [],
   "source": [
    "import pylabnet.utils.logging.logger as logload"
   ]
  },
  {
   "cell_type": "code",
   "execution_count": 170,
   "metadata": {},
   "outputs": [],
   "source": [
    "logger = logload.get_master_logger_client('stupid name1')"
   ]
  },
  {
   "cell_type": "code",
   "execution_count": 182,
   "metadata": {},
   "outputs": [],
   "source": [
    "rm = pyvisa.ResourceManager()\n",
    "res_list = rm.list_resources()\n"
   ]
  },
  {
   "cell_type": "code",
   "execution_count": 184,
   "metadata": {},
   "outputs": [
    {
     "name": "stdout",
     "output_type": "stream",
     "text": [
      "USB0::0x1313::0x8076::M00940375::INSTR\n"
     ]
    }
   ],
   "source": [
    "for a in res_list:\n",
    "    if a.find('0x1313::0x8076::M00940375')>=0:\n",
    "        print(a)"
   ]
  },
  {
   "cell_type": "code",
   "execution_count": null,
   "metadata": {},
   "outputs": [],
   "source": []
  }
 ],
 "metadata": {
  "kernelspec": {
   "display_name": "env",
   "language": "python",
   "name": "python3"
  },
  "language_info": {
   "codemirror_mode": {
    "name": "ipython",
    "version": 3
   },
   "file_extension": ".py",
   "mimetype": "text/x-python",
   "name": "python",
   "nbconvert_exporter": "python",
   "pygments_lexer": "ipython3",
   "version": "3.8.10"
  }
 },
 "nbformat": 4,
 "nbformat_minor": 2
}
