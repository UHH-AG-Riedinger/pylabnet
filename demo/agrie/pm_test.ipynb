{
 "cells": [
  {
   "cell_type": "code",
   "execution_count": 206,
   "metadata": {},
   "outputs": [],
   "source": [
    "import pyvisa\n",
    "from pylabnet.utils.logging.logger import LogClient\n",
    "from pylabnet.network.core.generic_server import GenericServer\n",
    "from pylabnet.hardware.power_meter.thorlabs_pm320e import Driver\n",
    "import time\n",
    "import numpy as np\n",
    "import matplotlib.pyplot as plt\n",
    "from pylabnet.network.client_server.thorlabs_pm320e import Client as power_meter_Client\n",
    "import pylabnet.utils.helper_methods as hm\n",
    "from pylabnet.utils.logging.logger import get_master_logger_client\n",
    "\n",
    "#import importlib\n",
    "\n",
    "import os"
   ]
  },
  {
   "cell_type": "code",
   "execution_count": 192,
   "metadata": {},
   "outputs": [],
   "source": [
    "logger = get_master_logger_client()"
   ]
  },
  {
   "cell_type": "code",
   "execution_count": 193,
   "metadata": {},
   "outputs": [],
   "source": [
    "aa = logger.get_client_data()"
   ]
  },
  {
   "cell_type": "code",
   "execution_count": 201,
   "metadata": {},
   "outputs": [
    {
     "name": "stdout",
     "output_type": "stream",
     "text": [
      "logger_GUI\n",
      "logger_GUI_proxy2\n",
      "1\n",
      "thorlabs_pm101_server_0x1313::0x8076::M00940375\n",
      "temp_logger\n"
     ]
    }
   ],
   "source": [
    "for clients in aa:\n",
    "    if 'port' in aa[clients]:\n",
    "        if aa[clients]['port'] == 29003:\n",
    "            print(1)\n"
   ]
  },
  {
   "cell_type": "code",
   "execution_count": 66,
   "metadata": {},
   "outputs": [],
   "source": [
    "from pylabnet.hardware.power_meter.thorlabs_pm101 import Driver as driver101"
   ]
  },
  {
   "cell_type": "code",
   "execution_count": 171,
   "metadata": {},
   "outputs": [],
   "source": [
    "pm101 = driver101(\n",
    "    usb_address=\"USB0::0x1313::0x8076::M00940375::INSTR\", \n",
    "    logger=logger\n",
    ")"
   ]
  },
  {
   "cell_type": "code",
   "execution_count": 177,
   "metadata": {},
   "outputs": [
    {
     "data": {
      "text/plain": [
       "6.95742e-06"
      ]
     },
     "execution_count": 177,
     "metadata": {},
     "output_type": "execute_result"
    }
   ],
   "source": [
    "pm101.get_power()"
   ]
  },
  {
   "cell_type": "code",
   "execution_count": 176,
   "metadata": {},
   "outputs": [
    {
     "data": {
      "text/plain": [
       "('USB0::0x1313::0x8076::M00940375::INSTR', 'ASRL1::INSTR')"
      ]
     },
     "execution_count": 176,
     "metadata": {},
     "output_type": "execute_result"
    }
   ],
   "source": [
    "rm = pyvisa.ResourceManager()\n",
    "rm.list_resources()"
   ]
  },
  {
   "cell_type": "code",
   "execution_count": 120,
   "metadata": {},
   "outputs": [],
   "source": [
    "dev_temp  = rm.open_resource('USB0::0x1313::0x8076::M00940375::INSTR')"
   ]
  },
  {
   "cell_type": "code",
   "execution_count": 121,
   "metadata": {},
   "outputs": [],
   "source": [
    "device_id = dev_temp.query('*IDN?', 2)"
   ]
  },
  {
   "cell_type": "code",
   "execution_count": null,
   "metadata": {},
   "outputs": [],
   "source": [
    "device_id = dev_temp.write('')"
   ]
  },
  {
   "cell_type": "code",
   "execution_count": 119,
   "metadata": {},
   "outputs": [
    {
     "data": {
      "text/plain": [
       "ResourceInfo(interface_type=<InterfaceType.usb: 7>, interface_board_number=0, resource_class='INSTR', resource_name='USB0::0x1313::0x8076::M00940375::0::INSTR', alias=None)"
      ]
     },
     "execution_count": 119,
     "metadata": {},
     "output_type": "execute_result"
    }
   ],
   "source": [
    "rm.resource_info('USB0::0x1313::0x8076::M00940375::INSTR')"
   ]
  },
  {
   "cell_type": "code",
   "execution_count": 99,
   "metadata": {},
   "outputs": [
    {
     "ename": "Error",
     "evalue": "The session 4 does not seem to be valid as it does not have any last status",
     "output_type": "error",
     "traceback": [
      "\u001b[1;31m---------------------------------------------------------------------------\u001b[0m",
      "\u001b[1;31mKeyError\u001b[0m                                  Traceback (most recent call last)",
      "File \u001b[1;32mc:\\GithubSync\\pylabnet\\env\\lib\\site-packages\\pyvisa\\highlevel.py:274\u001b[0m, in \u001b[0;36mVisaLibraryBase.get_last_status_in_session\u001b[1;34m(self, session)\u001b[0m\n\u001b[0;32m    273\u001b[0m \u001b[39mtry\u001b[39;00m:\n\u001b[1;32m--> 274\u001b[0m     \u001b[39mreturn\u001b[39;00m \u001b[39mself\u001b[39;49m\u001b[39m.\u001b[39;49m_last_status_in_session[session]\n\u001b[0;32m    275\u001b[0m \u001b[39mexcept\u001b[39;00m \u001b[39mKeyError\u001b[39;00m:\n",
      "\u001b[1;31mKeyError\u001b[0m: 4",
      "\nDuring handling of the above exception, another exception occurred:\n",
      "\u001b[1;31mError\u001b[0m                                     Traceback (most recent call last)",
      "\u001b[1;32mc:\\GithubSync\\pylabnet\\demo\\agrie\\pm_test.ipynb Cell 28\u001b[0m line \u001b[0;36m1\n\u001b[1;32m----> <a href='vscode-notebook-cell:/c%3A/GithubSync/pylabnet/demo/agrie/pm_test.ipynb#X36sZmlsZQ%3D%3D?line=0'>1</a>\u001b[0m dev_temp\u001b[39m.\u001b[39;49mlast_status\n",
      "File \u001b[1;32mc:\\GithubSync\\pylabnet\\env\\lib\\site-packages\\pyvisa\\resources\\resource.py:216\u001b[0m, in \u001b[0;36mResource.last_status\u001b[1;34m(self)\u001b[0m\n\u001b[0;32m    213\u001b[0m \u001b[39m@property\u001b[39m\n\u001b[0;32m    214\u001b[0m \u001b[39mdef\u001b[39;00m \u001b[39mlast_status\u001b[39m(\u001b[39mself\u001b[39m) \u001b[39m-\u001b[39m\u001b[39m>\u001b[39m constants\u001b[39m.\u001b[39mStatusCode:\n\u001b[0;32m    215\u001b[0m     \u001b[39m\"\"\"Last status code for this session.\"\"\"\u001b[39;00m\n\u001b[1;32m--> 216\u001b[0m     \u001b[39mreturn\u001b[39;00m \u001b[39mself\u001b[39;49m\u001b[39m.\u001b[39;49mvisalib\u001b[39m.\u001b[39;49mget_last_status_in_session(\u001b[39mself\u001b[39;49m\u001b[39m.\u001b[39;49msession)\n",
      "File \u001b[1;32mc:\\GithubSync\\pylabnet\\env\\lib\\site-packages\\pyvisa\\highlevel.py:276\u001b[0m, in \u001b[0;36mVisaLibraryBase.get_last_status_in_session\u001b[1;34m(self, session)\u001b[0m\n\u001b[0;32m    274\u001b[0m     \u001b[39mreturn\u001b[39;00m \u001b[39mself\u001b[39m\u001b[39m.\u001b[39m_last_status_in_session[session]\n\u001b[0;32m    275\u001b[0m \u001b[39mexcept\u001b[39;00m \u001b[39mKeyError\u001b[39;00m:\n\u001b[1;32m--> 276\u001b[0m     \u001b[39mraise\u001b[39;00m errors\u001b[39m.\u001b[39mError(\n\u001b[0;32m    277\u001b[0m         \u001b[39m\"\u001b[39m\u001b[39mThe session \u001b[39m\u001b[39m%r\u001b[39;00m\u001b[39m does not seem to be valid as it does not have any last status\u001b[39m\u001b[39m\"\u001b[39m\n\u001b[0;32m    278\u001b[0m         \u001b[39m%\u001b[39m session\n\u001b[0;32m    279\u001b[0m     )\n",
      "\u001b[1;31mError\u001b[0m: The session 4 does not seem to be valid as it does not have any last status"
     ]
    }
   ],
   "source": [
    "dev_temp.last_status\n"
   ]
  },
  {
   "cell_type": "code",
   "execution_count": 84,
   "metadata": {},
   "outputs": [
    {
     "ename": "AttributeError",
     "evalue": "'USBInstrument' object has no attribute 'bytes_in_buffer'",
     "output_type": "error",
     "traceback": [
      "\u001b[1;31m---------------------------------------------------------------------------\u001b[0m",
      "\u001b[1;31mAttributeError\u001b[0m                            Traceback (most recent call last)",
      "\u001b[1;32mc:\\GithubSync\\pylabnet\\demo\\agrie\\pm_test.ipynb Cell 29\u001b[0m line \u001b[0;36m1\n\u001b[1;32m----> <a href='vscode-notebook-cell:/c%3A/GithubSync/pylabnet/demo/agrie/pm_test.ipynb#X40sZmlsZQ%3D%3D?line=0'>1</a>\u001b[0m dev_temp\u001b[39m.\u001b[39;49mbytes_in_buffer\n",
      "\u001b[1;31mAttributeError\u001b[0m: 'USBInstrument' object has no attribute 'bytes_in_buffer'"
     ]
    }
   ],
   "source": [
    "dev_temp.bytes_in_buffer"
   ]
  },
  {
   "cell_type": "code",
   "execution_count": 122,
   "metadata": {},
   "outputs": [],
   "source": [
    "dev_temp.before_close()\n",
    "dev_temp.close()"
   ]
  },
  {
   "cell_type": "code",
   "execution_count": 90,
   "metadata": {},
   "outputs": [],
   "source": []
  },
  {
   "cell_type": "code",
   "execution_count": 103,
   "metadata": {},
   "outputs": [],
   "source": [
    "abc = logger.get_client_data()"
   ]
  },
  {
   "cell_type": "code",
   "execution_count": 104,
   "metadata": {},
   "outputs": [
    {
     "name": "stdout",
     "output_type": "stream",
     "text": [
      "{'logger_GUI': {'ip': '192.168.1.101', 'timestamp': '2023-11-17, 20:03:46', 'ui': 'logger_remote', 'port': 12346}, 'logger_GUI_proxy': {'ip': '192.168.1.102', 'timestamp': '2023-11-17, 20:03:06', 'ui': 'logger_remote', 'port': 28781}}\n"
     ]
    }
   ],
   "source": [
    "print(abc)"
   ]
  },
  {
   "cell_type": "code",
   "execution_count": 178,
   "metadata": {},
   "outputs": [],
   "source": [
    "open_res = rm.list_opened_resources()"
   ]
  },
  {
   "cell_type": "code",
   "execution_count": 179,
   "metadata": {},
   "outputs": [
    {
     "data": {
      "text/plain": [
       "[<'USBInstrument'('USB0::0x1313::0x8076::M00940375::0::INSTR')>]"
      ]
     },
     "execution_count": 179,
     "metadata": {},
     "output_type": "execute_result"
    }
   ],
   "source": [
    "open_res"
   ]
  },
  {
   "cell_type": "code",
   "execution_count": 116,
   "metadata": {},
   "outputs": [],
   "source": [
    "temp_res = open_res[-1]\n",
    "temp_res.before_close()\n",
    "temp_res.close()"
   ]
  },
  {
   "cell_type": "code",
   "execution_count": 125,
   "metadata": {},
   "outputs": [
    {
     "data": {
      "text/plain": [
       "3"
      ]
     },
     "execution_count": 125,
     "metadata": {},
     "output_type": "execute_result"
    }
   ],
   "source": [
    "len('abs')"
   ]
  },
  {
   "cell_type": "code",
   "execution_count": 128,
   "metadata": {},
   "outputs": [
    {
     "name": "stdout",
     "output_type": "stream",
     "text": [
      "0\n",
      "1\n",
      "2\n"
     ]
    }
   ],
   "source": [
    "n = []\n",
    "for i, kk in enumerate([1,2,3]):\n",
    "    print(i)\n",
    "    n.append(None)"
   ]
  },
  {
   "cell_type": "code",
   "execution_count": 129,
   "metadata": {},
   "outputs": [
    {
     "data": {
      "text/plain": [
       "[None, None, None]"
      ]
     },
     "execution_count": 129,
     "metadata": {},
     "output_type": "execute_result"
    }
   ],
   "source": [
    "n"
   ]
  },
  {
   "cell_type": "code",
   "execution_count": 131,
   "metadata": {},
   "outputs": [],
   "source": [
    "a, b, c = n"
   ]
  },
  {
   "cell_type": "code",
   "execution_count": 169,
   "metadata": {},
   "outputs": [
    {
     "data": {
      "text/plain": [
       "<module 'pylabnet.utils.logging.logger' from 'c:\\\\githubsync\\\\pylabnet\\\\pylabnet\\\\utils\\\\logging\\\\logger.py'>"
      ]
     },
     "execution_count": 169,
     "metadata": {},
     "output_type": "execute_result"
    }
   ],
   "source": [
    "importlib.reload(hm)\n",
    "importlib.reload(logload)"
   ]
  },
  {
   "cell_type": "code",
   "execution_count": 136,
   "metadata": {},
   "outputs": [],
   "source": [
    "master_data = hm.load_config('static_proxy')"
   ]
  },
  {
   "cell_type": "code",
   "execution_count": 137,
   "metadata": {},
   "outputs": [
    {
     "data": {
      "text/plain": [
       "{'logger_path': 'C:\\\\pylabnet_logs',\n",
       " 'master_ip': '192.168.1.101',\n",
       " 'master_log_port': 12345,\n",
       " 'master_gui_port': 12346}"
      ]
     },
     "execution_count": 137,
     "metadata": {},
     "output_type": "execute_result"
    }
   ],
   "source": [
    "master_data"
   ]
  },
  {
   "cell_type": "code",
   "execution_count": 152,
   "metadata": {},
   "outputs": [],
   "source": []
  },
  {
   "cell_type": "code",
   "execution_count": 161,
   "metadata": {},
   "outputs": [],
   "source": [
    "pmX = hm.autoconnect_device(device_tag = 'thorlabs_pm101_server_USB0::0x1313::0x8076::M00940375::INSTR')"
   ]
  },
  {
   "cell_type": "code",
   "execution_count": 165,
   "metadata": {},
   "outputs": [
    {
     "ename": "TypeError",
     "evalue": "get_wavelength() missing 1 required positional argument: 'channel'",
     "output_type": "error",
     "traceback": [
      "\u001b[1;31m---------------------------------------------------------------------------\u001b[0m",
      "\u001b[1;31mTypeError\u001b[0m                                 Traceback (most recent call last)",
      "\u001b[1;32mc:\\GithubSync\\pylabnet\\demo\\agrie\\pm_test.ipynb Cell 46\u001b[0m line \u001b[0;36m1\n\u001b[1;32m----> <a href='vscode-notebook-cell:/c%3A/GithubSync/pylabnet/demo/agrie/pm_test.ipynb#X63sZmlsZQ%3D%3D?line=0'>1</a>\u001b[0m pmX\u001b[39m.\u001b[39;49mget_wavelength()\n",
      "\u001b[1;31mTypeError\u001b[0m: get_wavelength() missing 1 required positional argument: 'channel'"
     ]
    }
   ],
   "source": [
    "pmX.get_wavelength()"
   ]
  },
  {
   "cell_type": "code",
   "execution_count": 159,
   "metadata": {},
   "outputs": [],
   "source": [
    "import pylabnet.utils.logging.logger as logload"
   ]
  },
  {
   "cell_type": "code",
   "execution_count": 170,
   "metadata": {},
   "outputs": [],
   "source": [
    "logger = logload.get_master_logger_client('stupid name1')"
   ]
  },
  {
   "cell_type": "code",
   "execution_count": 187,
   "metadata": {},
   "outputs": [],
   "source": [
    "rm = pyvisa.ResourceManager()\n",
    "res_list = rm.list_resources()\n"
   ]
  },
  {
   "cell_type": "code",
   "execution_count": 185,
   "metadata": {},
   "outputs": [
    {
     "name": "stdout",
     "output_type": "stream",
     "text": [
      "USB0::0x1313::0x8076::M00940375::INSTR\n"
     ]
    }
   ],
   "source": [
    "for a in res_list:\n",
    "    if a.find('0x1313::0x8076::M00940375')>=0:\n",
    "        print(a)"
   ]
  },
  {
   "cell_type": "code",
   "execution_count": 189,
   "metadata": {},
   "outputs": [
    {
     "data": {
      "text/plain": [
       "('USB0::0x1313::0x8076::M00940375::INSTR',)"
      ]
     },
     "execution_count": 189,
     "metadata": {},
     "output_type": "execute_result"
    }
   ],
   "source": [
    "rm.list_resources('?*0x1313::0x8076::M00940375?*::INSTR')"
   ]
  },
  {
   "cell_type": "code",
   "execution_count": 188,
   "metadata": {},
   "outputs": [
    {
     "data": {
      "text/plain": [
       "('USB0::0x1313::0x8076::M00940375::INSTR', 'ASRL1::INSTR')"
      ]
     },
     "execution_count": 188,
     "metadata": {},
     "output_type": "execute_result"
    }
   ],
   "source": [
    "res_list"
   ]
  },
  {
   "cell_type": "code",
   "execution_count": 207,
   "metadata": {},
   "outputs": [
    {
     "ename": "NameError",
     "evalue": "name 'pylabnet' is not defined",
     "output_type": "error",
     "traceback": [
      "\u001b[1;31m---------------------------------------------------------------------------\u001b[0m",
      "\u001b[1;31mNameError\u001b[0m                                 Traceback (most recent call last)",
      "\u001b[1;32mc:\\GithubSync\\pylabnet\\demo\\agrie\\pm_test.ipynb Cell 38\u001b[0m line \u001b[0;36m1\n\u001b[1;32m----> <a href='vscode-notebook-cell:/c%3A/GithubSync/pylabnet/demo/agrie/pm_test.ipynb#Y104sZmlsZQ%3D%3D?line=0'>1</a>\u001b[0m importlib\u001b[39m.\u001b[39mreload(pylabnet\u001b[39m.\u001b[39mutils\u001b[39m.\u001b[39mlogging\u001b[39m.\u001b[39mlogger)\n\u001b[0;32m      <a href='vscode-notebook-cell:/c%3A/GithubSync/pylabnet/demo/agrie/pm_test.ipynb#Y104sZmlsZQ%3D%3D?line=1'>2</a>\u001b[0m logger \u001b[39m=\u001b[39m LogClient()\n",
      "\u001b[1;31mNameError\u001b[0m: name 'pylabnet' is not defined"
     ]
    }
   ],
   "source": [
    "importlib.reload(pylabnet.utils.logging.logger)\n",
    "logger = LogClient()"
   ]
  },
  {
   "cell_type": "code",
   "execution_count": null,
   "metadata": {},
   "outputs": [],
   "source": [
    "pmX = hm.autoconnect_device(device_tag = 'thorlabs_pm101_server_USB0::0x1313::0x8076::M00940375::INSTR')"
   ]
  }
 ],
 "metadata": {
  "kernelspec": {
   "display_name": "env",
   "language": "python",
   "name": "python3"
  },
  "language_info": {
   "codemirror_mode": {
    "name": "ipython",
    "version": 3
   },
   "file_extension": ".py",
   "mimetype": "text/x-python",
   "name": "python",
   "nbconvert_exporter": "python",
   "pygments_lexer": "ipython3",
   "version": "3.8.10"
  }
 },
 "nbformat": 4,
 "nbformat_minor": 2
}
